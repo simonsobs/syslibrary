{
 "cells": [
  {
   "cell_type": "markdown",
   "metadata": {},
   "source": [
    "Tutorial on how to use syslib. Currently available: calibration feature only."
   ]
  },
  {
   "cell_type": "code",
   "execution_count": 5,
   "metadata": {},
   "outputs": [],
   "source": [
    "import numpy as np\n",
    "from syslibrary import syslib"
   ]
  },
  {
   "cell_type": "markdown",
   "metadata": {},
   "source": [
    "Let's initiate a Calibration class and check it out "
   ]
  },
  {
   "cell_type": "code",
   "execution_count": 6,
   "metadata": {},
   "outputs": [],
   "source": [
    "calib=syslib.Calibration()"
   ]
  },
  {
   "cell_type": "code",
   "execution_count": 7,
   "metadata": {},
   "outputs": [
    {
     "data": {
      "text/plain": [
       "Calibration:\n",
       "  cXnu1: 1.0\n",
       "  cYnu2: 1.0"
      ]
     },
     "execution_count": 7,
     "metadata": {},
     "output_type": "execute_result"
    }
   ],
   "source": [
    "calib"
   ]
  },
  {
   "cell_type": "markdown",
   "metadata": {},
   "source": [
    "calib takes two input arguments. Those are supposed to be the calibration factors, one for each field X,Y and frequency nu1,nu2. E.g., calibration factor for field T measured at frequency 95GHz. "
   ]
  },
  {
   "cell_type": "code",
   "execution_count": 8,
   "metadata": {},
   "outputs": [
    {
     "data": {
      "text/plain": [
       "{'cXnu1': 1.0, 'cYnu2': 1.0}"
      ]
     },
     "execution_count": 8,
     "metadata": {},
     "output_type": "execute_result"
    }
   ],
   "source": [
    "calib.defaults"
   ]
  },
  {
   "cell_type": "markdown",
   "metadata": {},
   "source": [
    "We can change the defaults value via the set_defaults function"
   ]
  },
  {
   "cell_type": "code",
   "execution_count": 9,
   "metadata": {},
   "outputs": [
    {
     "data": {
      "text/plain": [
       "Calibration:\n",
       "  cXnu1: 3.0\n",
       "  cYnu2: 1.0"
      ]
     },
     "execution_count": 9,
     "metadata": {},
     "output_type": "execute_result"
    }
   ],
   "source": [
    "calib.set_defaults(cXnu1=3.)\n",
    "calib"
   ]
  },
  {
   "cell_type": "markdown",
   "metadata": {},
   "source": [
    "Let's now look at the output. The input arguments can be passed as two scalars. In this case, the output is a scalar."
   ]
  },
  {
   "cell_type": "code",
   "execution_count": 10,
   "metadata": {},
   "outputs": [
    {
     "data": {
      "text/plain": [
       "array([6.])"
      ]
     },
     "execution_count": 10,
     "metadata": {},
     "output_type": "execute_result"
    }
   ],
   "source": [
    "calib(cXnu1=2.,cYnu2=3.)"
   ]
  },
  {
   "cell_type": "markdown",
   "metadata": {},
   "source": [
    "Or as an array and a scalar. Note that order matters. In this case, the output is a column vector."
   ]
  },
  {
   "cell_type": "code",
   "execution_count": 11,
   "metadata": {},
   "outputs": [
    {
     "data": {
      "text/plain": [
       "array([[1.],\n",
       "       [2.]])"
      ]
     },
     "execution_count": 11,
     "metadata": {},
     "output_type": "execute_result"
    }
   ],
   "source": [
    "calib(cXnu1=[1.,2.])"
   ]
  },
  {
   "cell_type": "markdown",
   "metadata": {},
   "source": [
    "In this other case, where cXnu1 is a scalar and cYnu2 is an array, the output is a row vector."
   ]
  },
  {
   "cell_type": "code",
   "execution_count": 12,
   "metadata": {},
   "outputs": [
    {
     "data": {
      "text/plain": [
       "array([3., 6.])"
      ]
     },
     "execution_count": 12,
     "metadata": {},
     "output_type": "execute_result"
    }
   ],
   "source": [
    "calib(cYnu2=[1.,2.])"
   ]
  },
  {
   "cell_type": "markdown",
   "metadata": {},
   "source": [
    "The most general case, when both cXnu1 and cYnu2 are arrays, gives a matrix as an output."
   ]
  },
  {
   "cell_type": "code",
   "execution_count": 13,
   "metadata": {},
   "outputs": [
    {
     "data": {
      "text/plain": [
       "array([[3., 4.],\n",
       "       [6., 8.]])"
      ]
     },
     "execution_count": 13,
     "metadata": {},
     "output_type": "execute_result"
    }
   ],
   "source": [
    "calib(cXnu1=[1.,2.],cYnu2=[3.,4.])"
   ]
  },
  {
   "cell_type": "markdown",
   "metadata": {},
   "source": [
    "Suppose now that cT=[1,2,3] is the array of calibration factors of T maps for a set\n",
    "of 3 frequencies (say, 95, 150, 220 GHz). cE=[4,5,6] is the analogue for E maps. Let's call calib() with these two input arguments."
   ]
  },
  {
   "cell_type": "code",
   "execution_count": 14,
   "metadata": {},
   "outputs": [
    {
     "data": {
      "text/plain": [
       "array([[ 4.,  5.,  6.],\n",
       "       [ 8., 10., 12.],\n",
       "       [12., 15., 18.]])"
      ]
     },
     "execution_count": 14,
     "metadata": {},
     "output_type": "execute_result"
    }
   ],
   "source": [
    "cT=[1.,2.,3.]\n",
    "cE=[4.,5.,6.]\n",
    "calib(cXnu1=cT, cYnu2=cE)"
   ]
  },
  {
   "cell_type": "markdown",
   "metadata": {},
   "source": [
    "Each entry of this matrix corresponds to the calibration factor of the TE auto- and cross-spectra.\n",
    "E.g., element (0,0) is the calibration factor of the 95x95 TE spectrum.\n",
    "Element (0,1) is the calibration factor of the 95x150 spectrum, i.e. T from 95 and E from 150.\n",
    "Note that it is different from element (1,0), which is the cal factor for TE 150x95,\n",
    "i.e. T from 150 and E from 95."
   ]
  },
  {
   "cell_type": "markdown",
   "metadata": {},
   "source": [
    "Let's now have a look at the possibility to upload templates from file. We have defined a class called ReadTemplateFromFile. Note that the input file is in yaml format. The class takes a root name in input, check for the file, open it."
   ]
  },
  {
   "cell_type": "code",
   "execution_count": 17,
   "metadata": {},
   "outputs": [],
   "source": [
    "tfromf=syslib.ReadTemplateFromFile(rootname='test_template')"
   ]
  },
  {
   "cell_type": "code",
   "execution_count": 18,
   "metadata": {},
   "outputs": [
    {
     "data": {
      "text/plain": [
       "ReadTemplateFromFile:\n",
       "  amp: 1.0\n",
       "  ell: null"
      ]
     },
     "execution_count": 18,
     "metadata": {},
     "output_type": "execute_result"
    }
   ],
   "source": [
    "tfromf"
   ]
  },
  {
   "cell_type": "markdown",
   "metadata": {},
   "source": [
    "tfromf can be instancieted passing the ell range and the normalisation amp as input. It will return a dictionary of cls as follows: cl[spec,f1,f2], where spec=tt,te,ee, and f1,f2=each of the experiment's channels"
   ]
  },
  {
   "cell_type": "code",
   "execution_count": 19,
   "metadata": {},
   "outputs": [
    {
     "name": "stdout",
     "output_type": "stream",
     "text": [
      "('ee', 93, 93) [1. 1. 1. 1. 1. 1. 1. 1. 1. 1. 1. 1. 1. 1. 1. 1. 1. 1. 1. 1.]\n",
      "('ee', 93, 145) [1. 1. 1. 1. 1. 1. 1. 1. 1. 1. 1. 1. 1. 1. 1. 1. 1. 1. 1. 1.]\n",
      "('ee', 93, 225) [1. 1. 1. 1. 1. 1. 1. 1. 1. 1. 1. 1. 1. 1. 1. 1. 1. 1. 1. 1.]\n",
      "('ee', 145, 93) [1. 1. 1. 1. 1. 1. 1. 1. 1. 1. 1. 1. 1. 1. 1. 1. 1. 1. 1. 1.]\n",
      "('ee', 145, 145) [1. 1. 1. 1. 1. 1. 1. 1. 1. 1. 1. 1. 1. 1. 1. 1. 1. 1. 1. 1.]\n",
      "('ee', 145, 225) [1. 1. 1. 1. 1. 1. 1. 1. 1. 1. 1. 1. 1. 1. 1. 1. 1. 1. 1. 1.]\n",
      "('ee', 225, 93) [1. 1. 1. 1. 1. 1. 1. 1. 1. 1. 1. 1. 1. 1. 1. 1. 1. 1. 1. 1.]\n",
      "('ee', 225, 145) [1. 1. 1. 1. 1. 1. 1. 1. 1. 1. 1. 1. 1. 1. 1. 1. 1. 1. 1. 1.]\n",
      "('ee', 225, 225) [1. 1. 1. 1. 1. 1. 1. 1. 1. 1. 1. 1. 1. 1. 1. 1. 1. 1. 1. 1.]\n",
      "('te', 93, 93) [1. 1. 1. 1. 1. 1. 1. 1. 1. 1. 1. 1. 1. 1. 1. 1. 1. 1. 1. 1.]\n",
      "('te', 93, 145) [1. 1. 1. 1. 1. 1. 1. 1. 1. 1. 1. 1. 1. 1. 1. 1. 1. 1. 1. 1.]\n",
      "('te', 93, 225) [1. 1. 1. 1. 1. 1. 1. 1. 1. 1. 1. 1. 1. 1. 1. 1. 1. 1. 1. 1.]\n",
      "('te', 145, 93) [1. 1. 1. 1. 1. 1. 1. 1. 1. 1. 1. 1. 1. 1. 1. 1. 1. 1. 1. 1.]\n",
      "('te', 145, 145) [1. 1. 1. 1. 1. 1. 1. 1. 1. 1. 1. 1. 1. 1. 1. 1. 1. 1. 1. 1.]\n",
      "('te', 145, 225) [1. 1. 1. 1. 1. 1. 1. 1. 1. 1. 1. 1. 1. 1. 1. 1. 1. 1. 1. 1.]\n",
      "('te', 225, 93) [1. 1. 1. 1. 1. 1. 1. 1. 1. 1. 1. 1. 1. 1. 1. 1. 1. 1. 1. 1.]\n",
      "('te', 225, 145) [1. 1. 1. 1. 1. 1. 1. 1. 1. 1. 1. 1. 1. 1. 1. 1. 1. 1. 1. 1.]\n",
      "('te', 225, 225) [1. 1. 1. 1. 1. 1. 1. 1. 1. 1. 1. 1. 1. 1. 1. 1. 1. 1. 1. 1.]\n",
      "('tt', 93, 93) [1. 1. 1. 1. 1. 1. 1. 1. 1. 1. 1. 1. 1. 1. 1. 1. 1. 1. 1. 1.]\n",
      "('tt', 93, 145) [1. 1. 1. 1. 1. 1. 1. 1. 1. 1. 1. 1. 1. 1. 1. 1. 1. 1. 1. 1.]\n",
      "('tt', 93, 225) [1. 1. 1. 1. 1. 1. 1. 1. 1. 1. 1. 1. 1. 1. 1. 1. 1. 1. 1. 1.]\n",
      "('tt', 145, 93) [1. 1. 1. 1. 1. 1. 1. 1. 1. 1. 1. 1. 1. 1. 1. 1. 1. 1. 1. 1.]\n",
      "('tt', 145, 145) [1. 1. 1. 1. 1. 1. 1. 1. 1. 1. 1. 1. 1. 1. 1. 1. 1. 1. 1. 1.]\n",
      "('tt', 145, 225) [1. 1. 1. 1. 1. 1. 1. 1. 1. 1. 1. 1. 1. 1. 1. 1. 1. 1. 1. 1.]\n",
      "('tt', 225, 93) [1. 1. 1. 1. 1. 1. 1. 1. 1. 1. 1. 1. 1. 1. 1. 1. 1. 1. 1. 1.]\n",
      "('tt', 225, 145) [1. 1. 1. 1. 1. 1. 1. 1. 1. 1. 1. 1. 1. 1. 1. 1. 1. 1. 1. 1.]\n",
      "('tt', 225, 225) [1. 1. 1. 1. 1. 1. 1. 1. 1. 1. 1. 1. 1. 1. 1. 1. 1. 1. 1. 1.]\n"
     ]
    }
   ],
   "source": [
    "ell=np.arange(20)\n",
    "clt=tfromf(ell=ell)\n",
    "for k in clt.keys():\n",
    "    print(k,clt[k])"
   ]
  },
  {
   "cell_type": "markdown",
   "metadata": {},
   "source": [
    "Now, let's have a look at the T-to-E leakage template implemented in the library. It takes inspiration from the Planck 2015 T-to-E beam leakage model, where:\n",
    "\n",
    "aE(l)=aE(l)+eps(l)aT\n",
    "\n",
    "eps(l)=eps0+eps2* l** 2 +eps4* l**4\n",
    "\n",
    "and\n",
    "\n",
    "TE=TE+eps(l)TT\n",
    "\n",
    "EE=EE+2eps(l)TE+eps(l)^2*TT"
   ]
  },
  {
   "cell_type": "markdown",
   "metadata": {},
   "source": [
    "There is a class called Residual(), which is the master for many kinds of templates (many more to come). residual takes 2 inputs: an array of multipoles ell, and a dictionary of cls spectra. spectra must be in the following format:\n",
    "spectra[spec,f1,f2], where spec=tt,te,ee, and f1,f2 are each of the instrument's channels.\n",
    "The class TtoEleak_Planck15 is a specific instance, implementing the quartic template function described above. It takes two inputs: an array of frequencies nu, and a dictionary of leakage coefficients enu. \n",
    "\n",
    "for each nui in nu, enu is the following:\n",
    "enu[nui] is an array of 3 elements, corresponding to the 0th, 2nd, and 4th coefficients of the quartic function eps(l).\n",
    "\n",
    "The output is a dictionary of cls, same format as spectra."
   ]
  },
  {
   "cell_type": "code",
   "execution_count": 20,
   "metadata": {},
   "outputs": [],
   "source": [
    "ell=np.arange(2,10)\n",
    "cl=dict()\n",
    "nu=[90,150]\n",
    "cl[\"tt\",90,90]=1.*np.ones(len(ell))#/ell**2\n",
    "cl[\"tt\",90,150]=1.*np.ones(len(ell))#5#+1./ell**2\n",
    "cl[\"tt\",150,90]=1.*np.ones(len(ell))#5+1.#/ell**2\n",
    "cl[\"tt\",150,150]=1.*np.ones(len(ell))#25#+1./ell**2\n",
    "cl[\"te\",90,90]=1.*np.ones(len(ell))#/ell**2/10.\n",
    "cl[\"te\",90,150]=1.*np.ones(len(ell))#5#+1./ell**2/10.\n",
    "cl[\"te\",150,90]=1.*np.ones(len(ell))#5+1.#/ell**2/10.\n",
    "cl[\"te\",150,150]=1.*np.ones(len(ell))#25#+1./ell**2/10.\n",
    "cl[\"ee\",90,90]=1.*np.ones(len(ell))#/ell**2/1000.\n",
    "cl[\"ee\",90,150]=1.*np.ones(len(ell))#5#+1./ell**2/1000.\n",
    "cl[\"ee\",150,90]=1.*np.ones(len(ell))#5+1.#/ell**2/1000.\n",
    "cl[\"ee\",150,150]=1.*np.ones(len(ell))#25#+1./ell**2/1000.\n",
    "enu1={}\n",
    "enu1[90]=np.array([1.,2.,3.])\n",
    "enu1[150]=np.array([4.,5.,6.])"
   ]
  },
  {
   "cell_type": "code",
   "execution_count": 21,
   "metadata": {},
   "outputs": [
    {
     "data": {
      "text/plain": [
       "TtoEleak_Planck15:\n",
       "  enu:\n",
       "    '100':\n",
       "    - 0.0\n",
       "    - 0.0\n",
       "    - 0.0\n",
       "  nu: null"
      ]
     },
     "execution_count": 21,
     "metadata": {},
     "output_type": "execute_result"
    }
   ],
   "source": [
    "teleak=syl.TtoEleak_Planck15(ell=ell,spectra=cl)\n",
    "teleak"
   ]
  },
  {
   "cell_type": "code",
   "execution_count": 22,
   "metadata": {},
   "outputs": [
    {
     "name": "stdout",
     "output_type": "stream",
     "text": [
      "('tt', 90, 90) [0. 0. 0. 0. 0. 0. 0. 0.]\n",
      "('te', 90, 90) [   57.   262.   801.  1926.  3961.  7302. 12417. 19846.]\n",
      "('ee', 90, 90) [3.36300000e+03 6.91680000e+04 6.43203000e+05 3.71332800e+06\n",
      " 1.56974430e+07 5.33338080e+07 1.54206723e+08 3.93903408e+08]\n",
      "('tt', 90, 150) [0. 0. 0. 0. 0. 0. 0. 0.]\n",
      "('tt', 150, 90) [0. 0. 0. 0. 0. 0. 0. 0.]\n",
      "('te', 90, 150) [  120.   535.  1620.  3879.  7960. 14655. 24900. 39775.]\n",
      "('ee', 90, 150) [7.01700000e+03 1.40967000e+05 1.30004100e+06 7.47675900e+06\n",
      " 3.15414810e+07 1.07032767e+08 3.09220617e+08 7.89434271e+08]\n",
      "('te', 150, 90) [  120.   535.  1620.  3879.  7960. 14655. 24900. 39775.]\n",
      "('ee', 150, 90) [7.01700000e+03 1.40967000e+05 1.30004100e+06 7.47675900e+06\n",
      " 3.15414810e+07 1.07032767e+08 3.09220617e+08 7.89434271e+08]\n",
      "('tt', 150, 150) [0. 0. 0. 0. 0. 0. 0. 0.]\n",
      "('te', 150, 150) [  120.   535.  1620.  3879.  7960. 14655. 24900. 39775.]\n",
      "('ee', 150, 150) [1.46400000e+04 2.87295000e+05 2.62764000e+06 1.50543990e+07\n",
      " 6.33775200e+07 2.14798335e+08 6.20059800e+08 1.58213018e+09]\n"
     ]
    }
   ],
   "source": [
    "x=teleak(nu=nu,enu=enu1)\n",
    "for k in x.keys():\n",
    "    print(k,x[k])"
   ]
  },
  {
   "cell_type": "markdown",
   "metadata": {},
   "source": [
    "Another available template is a refinement of the Calibration scheme described above. Calibration_Planck15 is an instance of residual. It takes ell and spectra in input, and can be initiated with an array of frequencies nu and two dictionaries of calibration parameters cal1,cal2."
   ]
  },
  {
   "cell_type": "code",
   "execution_count": 24,
   "metadata": {},
   "outputs": [
    {
     "ename": "AttributeError",
     "evalue": "module 'syslibrary.syslib' has no attribute 'Calibration_Planck15'",
     "output_type": "error",
     "traceback": [
      "\u001b[1;31m---------------------------------------------------------------------------\u001b[0m",
      "\u001b[1;31mAttributeError\u001b[0m                            Traceback (most recent call last)",
      "Cell \u001b[1;32mIn[24], line 1\u001b[0m\n\u001b[1;32m----> 1\u001b[0m cal15\u001b[38;5;241m=\u001b[39msyslib\u001b[38;5;241m.\u001b[39mCalibration_Planck15(ell\u001b[38;5;241m=\u001b[39mell,spectra\u001b[38;5;241m=\u001b[39mcl)\n\u001b[0;32m      2\u001b[0m cal15\n",
      "\u001b[1;31mAttributeError\u001b[0m: module 'syslibrary.syslib' has no attribute 'Calibration_Planck15'"
     ]
    }
   ],
   "source": [
    "cal15=syslib.Calibration_Planck15(ell=ell,spectra=cl) # does not exist\n",
    "cal15"
   ]
  },
  {
   "cell_type": "code",
   "execution_count": null,
   "metadata": {},
   "outputs": [],
   "source": [
    "cal1={}\n",
    "cal1['tt']=[2.,4.]\n",
    "cal1['ee']=[3.,5.]\n",
    "cal15(cal1=cal1,cal2=cal1,nu=nu)"
   ]
  },
  {
   "cell_type": "markdown",
   "metadata": {},
   "source": [
    "Debug below this line. Not relevant.\n",
    "------------------------------------------"
   ]
  },
  {
   "cell_type": "code",
   "execution_count": null,
   "metadata": {},
   "outputs": [],
   "source": [
    "tfromf=syl.TemplatesFromFiles(nu=['93','145','225'],root='generic_template')\n",
    "tfromf"
   ]
  },
  {
   "cell_type": "markdown",
   "metadata": {},
   "source": [
    "tfromf can be instancieted giving it as input the ell range and the normalisation amp. It will return as output a 3X3 array of cls. Each cl will have length equal to ell."
   ]
  },
  {
   "cell_type": "code",
   "execution_count": null,
   "metadata": {},
   "outputs": [],
   "source": [
    "ell=np.arange(2,6000)\n",
    "tfromf(ell=ell)"
   ]
  },
  {
   "cell_type": "markdown",
   "metadata": {},
   "source": [
    "Note that amp can be either a scalar, a 3d array, or a 3X3 matrix."
   ]
  },
  {
   "cell_type": "code",
   "execution_count": null,
   "metadata": {},
   "outputs": [],
   "source": [
    "ell=np.arange(2,6000)\n",
    "tfromf(ell=ell,amp=[[1,2,3],[4,5,6],[7,8,9]])"
   ]
  },
  {
   "cell_type": "code",
   "execution_count": null,
   "metadata": {},
   "outputs": [],
   "source": [
    "tfromf=syl.TemplatesFromFiles(nu=['93','145','225'])"
   ]
  },
  {
   "cell_type": "code",
   "execution_count": null,
   "metadata": {},
   "outputs": [],
   "source": [
    "tfromf"
   ]
  },
  {
   "cell_type": "code",
   "execution_count": null,
   "metadata": {},
   "outputs": [],
   "source": [
    "ell=np.arange(2,10000)\n",
    "cl=dict()\n",
    "nu=[90,150]\n",
    "cl[\"tt\",90,90]=1.*np.ones(len(ell))#/ell**2\n",
    "cl[\"tt\",90,150]=1.*np.ones(len(ell))#5#+1./ell**2\n",
    "cl[\"tt\",150,90]=1.*np.ones(len(ell))#5+1.#/ell**2\n",
    "cl[\"tt\",150,150]=1.*np.ones(len(ell))#25#+1./ell**2\n",
    "cl[\"te\",90,90]=1.*np.ones(len(ell))#/ell**2/10.\n",
    "cl[\"te\",90,150]=1.*np.ones(len(ell))#5#+1./ell**2/10.\n",
    "cl[\"te\",150,90]=1.*np.ones(len(ell))#5+1.#/ell**2/10.\n",
    "cl[\"te\",150,150]=1.*np.ones(len(ell))#25#+1./ell**2/10.\n",
    "cl[\"ee\",90,90]=1.*np.ones(len(ell))#/ell**2/1000.\n",
    "cl[\"ee\",90,150]=1.*np.ones(len(ell))#5#+1./ell**2/1000.\n",
    "cl[\"ee\",150,90]=1.*np.ones(len(ell))#5+1.#/ell**2/1000.\n",
    "cl[\"ee\",150,150]=1.*np.ones(len(ell))#25#+1./ell**2/1000.\n",
    "enu1={}\n",
    "enu1[90]=np.array([1.,2.,3.])\n",
    "enu1[150]=np.array([4.,5.,6.])"
   ]
  },
  {
   "cell_type": "code",
   "execution_count": null,
   "metadata": {},
   "outputs": [],
   "source": [
    "teleak=syl.TtoEleak_Planck15(ell=ell,spectra=cl)"
   ]
  },
  {
   "cell_type": "code",
   "execution_count": null,
   "metadata": {},
   "outputs": [],
   "source": [
    "teleak"
   ]
  },
  {
   "cell_type": "code",
   "execution_count": null,
   "metadata": {},
   "outputs": [],
   "source": [
    "x=teleak(nu=nu,enu=enu1)"
   ]
  },
  {
   "cell_type": "code",
   "execution_count": null,
   "metadata": {},
   "outputs": [],
   "source": [
    "x['te',90,90]"
   ]
  },
  {
   "cell_type": "code",
   "execution_count": null,
   "metadata": {},
   "outputs": [],
   "source": [
    "syl.residual(ell=ell,spectra=cl)"
   ]
  },
  {
   "cell_type": "code",
   "execution_count": null,
   "metadata": {},
   "outputs": [],
   "source": [
    "cal15=syl.Calibration_Planck15(ell=ell,spectra=cl)"
   ]
  },
  {
   "cell_type": "code",
   "execution_count": null,
   "metadata": {},
   "outputs": [],
   "source": [
    "cal15"
   ]
  },
  {
   "cell_type": "code",
   "execution_count": null,
   "metadata": {},
   "outputs": [],
   "source": [
    "cal1={}\n",
    "cal1['tt']=[2.,4.]\n",
    "cal1['ee']=[3.,5.]"
   ]
  },
  {
   "cell_type": "code",
   "execution_count": null,
   "metadata": {},
   "outputs": [],
   "source": [
    "cal15(cal1=cal1,cal2=cal1,nu=nu)"
   ]
  },
  {
   "cell_type": "code",
   "execution_count": null,
   "metadata": {},
   "outputs": [],
   "source": [
    "for k in cal1.keys():\n",
    "    print(np.array(cal1[k]))"
   ]
  },
  {
   "cell_type": "code",
   "execution_count": null,
   "metadata": {},
   "outputs": [],
   "source": [
    "cl2"
   ]
  },
  {
   "cell_type": "code",
   "execution_count": null,
   "metadata": {},
   "outputs": [],
   "source": [
    "template={}\n",
    "yy={}\n",
    "template['bb']=yy\n",
    "yy['ciccio']=3\n",
    "template.keys()"
   ]
  },
  {
   "cell_type": "code",
   "execution_count": null,
   "metadata": {},
   "outputs": [],
   "source": [
    "cl.keys()"
   ]
  },
  {
   "cell_type": "markdown",
   "metadata": {},
   "source": [
    "Debug below this line. Not relevant.\n",
    "------------------------------------------"
   ]
  },
  {
   "cell_type": "code",
   "execution_count": null,
   "metadata": {},
   "outputs": [],
   "source": [
    "import numpy as np\n",
    "from itertools import product\n",
    "\n",
    "map_names = np.array(['93','145','225'])\n",
    "ell=np.arange(10000)\n",
    "dl=np.ones(len(ell))\n",
    "data=np.column_stack((ell,dl))\n",
    "corr=product(map_names,map_names)\n",
    "for i,c in enumerate(corr):\n",
    "    print(i,c)\n",
    "    idx = (i%3, i//3)\n",
    "    print(idx)\n",
    "    root='/Users/martina/Documents/University/Projects/sys_sandbox/newsysV0.1_folder/syslibrary/sysspectra/data/'\n",
    "    fname=root+'cl_generic_template_'+c[0]+'_'+c[1]+'.dat'\n",
    "    print(fname)\n",
    "    np.savetxt(fname,data)\n"
   ]
  },
  {
   "cell_type": "code",
   "execution_count": null,
   "metadata": {},
   "outputs": [],
   "source": [
    "cl2=dict()\n",
    "cl2['tt']=dict()\n",
    "cl2['tt'][93]=dict()\n",
    "cl2['tt'][145]=dict()\n",
    "cl2['tt'][225]=dict()\n",
    "cl2['te']=dict()\n",
    "cl2['te'][93]=dict()\n",
    "cl2['te'][145]=dict()\n",
    "cl2['te'][225]=dict()\n",
    "cl2['ee']=dict()\n",
    "cl2['ee'][93]=dict()\n",
    "cl2['ee'][145]=dict()\n",
    "cl2['ee'][225]=dict()\n",
    "#print(cl.keys())\n",
    "for k in cl2.keys():\n",
    "    for f1 in cl2[k].keys():\n",
    "        for f2 in [93,145,225]:\n",
    "            cl2[k][f1][f2]=np.ones(len(ell)).tolist()"
   ]
  },
  {
   "cell_type": "code",
   "execution_count": null,
   "metadata": {},
   "outputs": [],
   "source": [
    "import yaml\n",
    "with open('test_template.yaml', 'w') as file:\n",
    "    documents = yaml.dump(cl2, file,default_flow_style=False)"
   ]
  },
  {
   "cell_type": "code",
   "execution_count": null,
   "metadata": {},
   "outputs": [],
   "source": [
    "with open('test_template.yaml') as file:\n",
    "    documents = yaml.full_load(file)"
   ]
  },
  {
   "cell_type": "code",
   "execution_count": null,
   "metadata": {},
   "outputs": [],
   "source": [
    "documents.keys()"
   ]
  },
  {
   "cell_type": "code",
   "execution_count": null,
   "metadata": {},
   "outputs": [],
   "source": [
    "dcl=dict()\n",
    "for spec in documents.keys():\n",
    "    for f1 in documents[spec].keys():\n",
    "        for f2 in documents[spec][f1].keys():\n",
    "            dcl[spec,f1,f2] = np.array(documents[spec][f1][f2])"
   ]
  },
  {
   "cell_type": "code",
   "execution_count": null,
   "metadata": {},
   "outputs": [],
   "source": [
    "print(dcl)"
   ]
  },
  {
   "cell_type": "code",
   "execution_count": null,
   "metadata": {},
   "outputs": [],
   "source": [
    "l=np.arange(1000)\n",
    "ff=syl.ReadTemplateFromFile(rootname='test_template')"
   ]
  },
  {
   "cell_type": "code",
   "execution_count": null,
   "metadata": {},
   "outputs": [],
   "source": [
    "cl3=ff(ell=l)"
   ]
  },
  {
   "cell_type": "code",
   "execution_count": null,
   "metadata": {},
   "outputs": [],
   "source": [
    "cl3.keys()"
   ]
  },
  {
   "cell_type": "code",
   "execution_count": null,
   "metadata": {},
   "outputs": [],
   "source": [
    "np.shape(cl3['ee', 90, 90])"
   ]
  },
  {
   "cell_type": "code",
   "execution_count": null,
   "metadata": {},
   "outputs": [],
   "source": []
  }
 ],
 "metadata": {
  "kernelspec": {
   "display_name": "py12",
   "language": "python",
   "name": "py12"
  },
  "language_info": {
   "codemirror_mode": {
    "name": "ipython",
    "version": 3
   },
   "file_extension": ".py",
   "mimetype": "text/x-python",
   "name": "python",
   "nbconvert_exporter": "python",
   "pygments_lexer": "ipython3",
   "version": "3.11.5"
  }
 },
 "nbformat": 4,
 "nbformat_minor": 4
}
